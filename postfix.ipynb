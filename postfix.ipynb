{
  "nbformat": 4,
  "nbformat_minor": 0,
  "metadata": {
    "colab": {
      "provenance": []
    },
    "kernelspec": {
      "name": "python3",
      "display_name": "Python 3"
    },
    "language_info": {
      "name": "python"
    }
  },
  "cells": [
    {
      "cell_type": "code",
      "execution_count": null,
      "metadata": {
        "id": "AW-UUy2WKQf1"
      },
      "outputs": [],
      "source": [
        "class Stack:\n",
        "    def __init__(self, limit=10):\n",
        "        self.stack = []\n",
        "        self.limit = limit\n",
        "\n",
        "    def peek(self):\n",
        "        if len(self.stack) <= 0:\n",
        "            return -1\n",
        "        else:\n",
        "            return self.stack[len(self.stack) - 1]\n",
        "\n",
        "    def pop(self):\n",
        "        if len(self.stack) <= 0:\n",
        "            return -1\n",
        "        else:\n",
        "            return self.stack.pop()\n",
        "\n",
        "    def push(self, data):\n",
        "        if len(self.stack) >= self.limit:\n",
        "            return -1\n",
        "        else:\n",
        "            self.stack.append(data)  # Corrected the typo, should be 'append' not 'appned'\n",
        "\n",
        "    @staticmethod\n",
        "    def repost(lst):\n",
        "        s = Stack(len(lst) // 2)  # Corrected the typo, should be 'Stack' not 'stack'\n",
        "        for e in lst:\n",
        "            if e == '*':\n",
        "                t2 = s.pop()\n",
        "                t1 = s.pop()\n",
        "                t = t1 * t2\n",
        "                s.push(t)\n",
        "            elif e in ('+', '/', '-', '//'):  # Corrected the condition\n",
        "                t2 = s.pop()\n",
        "                t1 = s.pop()\n",
        "                if e == '+':\n",
        "                    t = t1 + t2\n",
        "                elif e == '/':\n",
        "                    t = t1 / t2\n",
        "                elif e == '-':\n",
        "                    t = t1 - t2\n",
        "                elif e == '//':\n",
        "                    t = t1 // t2\n",
        "                s.push(t)\n",
        "            else:\n",
        "                s.push(e)\n",
        "        return s.pop()  # Return the top element, not the entire stack[0]\n"
      ]
    }
  ]
}
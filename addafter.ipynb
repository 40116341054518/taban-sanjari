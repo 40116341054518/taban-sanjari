{
  "nbformat": 4,
  "nbformat_minor": 0,
  "metadata": {
    "colab": {
      "provenance": []
    },
    "kernelspec": {
      "name": "python3",
      "display_name": "Python 3"
    },
    "language_info": {
      "name": "python"
    }
  },
  "cells": [
    {
      "cell_type": "code",
      "execution_count": null,
      "metadata": {
        "id": "723xV-WxOENt"
      },
      "outputs": [],
      "source": [
        "class node:\n",
        "    def __init__(self,d):\n",
        "        self.data = d\n",
        "        self.next = None\n",
        "\n",
        "    def addinend(self,data):\n",
        "        n = node(data)\n",
        "        t = self.head\n",
        "        if (t == None):\n",
        "            self.head = n\n",
        "        else:\n",
        "            while (t.next != None):\n",
        "                t = t.next\n",
        "            t.next = n"
      ]
    }
  ]
}